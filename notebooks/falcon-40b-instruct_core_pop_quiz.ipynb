{
  "cells": [
    {
      "cell_type": "markdown",
      "metadata": {
        "application/vnd.databricks.v1+cell": {
          "cellMetadata": {
            "byteLimit": 2048000,
            "rowLimit": 10000
          },
          "inputWidgets": {},
          "nuid": "7e740b4d-aa46-4f9e-b860-81ae60534ac3",
          "showTitle": false,
          "title": ""
        },
        "id": "i5m7HwtsrNex"
      },
      "source": [
        "# LLM reasoning pop quiz\n",
        "\n",
        "Do open-sourced LLMs have the reasoning prowess of their closed-sourced siblings?\n",
        "\n",
        "* Google Colab notebook information\n",
        "  * GPU: A100-SXM 40 GB\n",
        "  * Disk: 166.8 GB\n",
        "* Details on falcon-40b-instruct\n",
        "  * Documentation: [Hugging Face model card](https://huggingface.co/tiiuae/falcon-40b-instruct)\n",
        "  * Latency: See below for examples with runtimes\n",
        "  * Memory footprint: Roughly 25 GB of GPU RAM used with 4bit quantization\n",
        "  * License: [Apache 2.0](https://huggingface.co/tiiuae/falcon-40b-instruct#license)\n",
        "\n",
        "\n",
        "<a target=\"_blank\" href=\"https://colab.research.google.com/github/daniel-furman/LLM-reasoning-pop-quiz/blob/main/notebooks/falcon-40b-instruct_core_pop_quiz.ipynb\">\n",
        "  <img src=\"https://colab.research.google.com/assets/colab-badge.svg\" alt=\"Open In Colab\"/>\n",
        "</a>"
      ]
    },
    {
      "cell_type": "markdown",
      "metadata": {
        "application/vnd.databricks.v1+cell": {
          "cellMetadata": {
            "byteLimit": 2048000,
            "rowLimit": 10000
          },
          "inputWidgets": {},
          "nuid": "63fc7220-82ea-45f4-b8f2-febf499b1d64",
          "showTitle": false,
          "title": ""
        },
        "id": "bz3OEcHXrNey"
      },
      "source": [
        "## Setup"
      ]
    },
    {
      "cell_type": "code",
      "execution_count": 1,
      "metadata": {
        "application/vnd.databricks.v1+cell": {
          "cellMetadata": {
            "byteLimit": 2048000,
            "rowLimit": 10000
          },
          "inputWidgets": {},
          "nuid": "fd369caa-4965-4710-9611-b4b96da5c244",
          "showTitle": false,
          "title": ""
        },
        "colab": {
          "base_uri": "https://localhost:8080/"
        },
        "id": "mAx4WnwarNey",
        "outputId": "15c99745-fa96-4650-fa2d-9c0fa4bf0a9c"
      },
      "outputs": [
        {
          "output_type": "stream",
          "name": "stdout",
          "text": [
            "Wed Jun  7 00:37:10 2023       \n",
            "+-----------------------------------------------------------------------------+\n",
            "| NVIDIA-SMI 525.85.12    Driver Version: 525.85.12    CUDA Version: 12.0     |\n",
            "|-------------------------------+----------------------+----------------------+\n",
            "| GPU  Name        Persistence-M| Bus-Id        Disp.A | Volatile Uncorr. ECC |\n",
            "| Fan  Temp  Perf  Pwr:Usage/Cap|         Memory-Usage | GPU-Util  Compute M. |\n",
            "|                               |                      |               MIG M. |\n",
            "|===============================+======================+======================|\n",
            "|   0  NVIDIA A100-SXM...  Off  | 00000000:00:04.0 Off |                    0 |\n",
            "| N/A   33C    P0    50W / 400W |      0MiB / 40960MiB |      0%      Default |\n",
            "|                               |                      |             Disabled |\n",
            "+-------------------------------+----------------------+----------------------+\n",
            "                                                                               \n",
            "+-----------------------------------------------------------------------------+\n",
            "| Processes:                                                                  |\n",
            "|  GPU   GI   CI        PID   Type   Process name                  GPU Memory |\n",
            "|        ID   ID                                                   Usage      |\n",
            "|=============================================================================|\n",
            "|  No running processes found                                                 |\n",
            "+-----------------------------------------------------------------------------+\n"
          ]
        }
      ],
      "source": [
        "# detailed information on the GPU\n",
        "\n",
        "!nvidia-smi"
      ]
    },
    {
      "cell_type": "code",
      "execution_count": 2,
      "metadata": {
        "colab": {
          "base_uri": "https://localhost:8080/"
        },
        "id": "N0Gh4WEcED95",
        "outputId": "bec944d6-d983-4bad-ad5f-9471f98b6f91"
      },
      "outputs": [
        {
          "output_type": "stream",
          "name": "stdout",
          "text": [
            "Cloning into 'LLM-reasoning-pop-quiz'...\n",
            "remote: Enumerating objects: 308, done.\u001b[K\n",
            "remote: Counting objects: 100% (143/143), done.\u001b[K\n",
            "remote: Compressing objects: 100% (91/91), done.\u001b[K\n",
            "remote: Total 308 (delta 81), reused 102 (delta 43), pack-reused 165\u001b[K\n",
            "Receiving objects: 100% (308/308), 150.47 KiB | 16.72 MiB/s, done.\n",
            "Resolving deltas: 100% (152/152), done.\n"
          ]
        }
      ],
      "source": [
        "!git clone https://github.com/daniel-furman/LLM-reasoning-pop-quiz.git"
      ]
    },
    {
      "cell_type": "code",
      "execution_count": 3,
      "metadata": {
        "colab": {
          "base_uri": "https://localhost:8080/"
        },
        "id": "yigQDMrGGV1S",
        "outputId": "5a8d8cdf-2e5a-4f7d-b964-efb5708476b6"
      },
      "outputs": [
        {
          "output_type": "stream",
          "name": "stdout",
          "text": [
            "  Installing build dependencies ... \u001b[?25l\u001b[?25hdone\n",
            "  Getting requirements to build wheel ... \u001b[?25l\u001b[?25hdone\n",
            "  Preparing metadata (pyproject.toml) ... \u001b[?25l\u001b[?25hdone\n",
            "  Installing build dependencies ... \u001b[?25l\u001b[?25hdone\n",
            "  Getting requirements to build wheel ... \u001b[?25l\u001b[?25hdone\n",
            "  Preparing metadata (pyproject.toml) ... \u001b[?25l\u001b[?25hdone\n",
            "  Preparing metadata (setup.py) ... \u001b[?25l\u001b[?25hdone\n",
            "  Building wheel for drf-llm-boilers (setup.py) ... \u001b[?25l\u001b[?25hdone\n"
          ]
        }
      ],
      "source": [
        "# install necessary libraries\n",
        "import os\n",
        "\n",
        "os.chdir(\"/content/LLM-reasoning-pop-quiz\")\n",
        "!pip install -q -U -r requirements.txt\n",
        "os.chdir(\"..\")"
      ]
    },
    {
      "cell_type": "code",
      "execution_count": 4,
      "metadata": {
        "application/vnd.databricks.v1+cell": {
          "cellMetadata": {
            "byteLimit": 2048000,
            "rowLimit": 10000
          },
          "inputWidgets": {},
          "nuid": "3c585315-960c-45ae-8f17-eee6c066e1f0",
          "showTitle": false,
          "title": ""
        },
        "id": "fCN8gVnErNe0"
      },
      "outputs": [],
      "source": [
        "# import libraries\n",
        "\n",
        "import transformers\n",
        "import torch\n",
        "import time\n",
        "import yaml\n",
        "\n",
        "# import helpers\n",
        "\n",
        "from drf_llm_boilers import llm_boiler"
      ]
    },
    {
      "cell_type": "code",
      "execution_count": 5,
      "metadata": {
        "id": "glqF1V1RXgYp"
      },
      "outputs": [],
      "source": [
        "# set the seed\n",
        "\n",
        "transformers.set_seed(4129408)"
      ]
    },
    {
      "cell_type": "code",
      "execution_count": 6,
      "metadata": {
        "application/vnd.databricks.v1+cell": {
          "cellMetadata": {
            "byteLimit": 2048000,
            "rowLimit": 10000
          },
          "inputWidgets": {},
          "nuid": "3d59cadf-9266-4d7e-986d-a0d3cc7ea62a",
          "showTitle": false,
          "title": ""
        },
        "colab": {
          "base_uri": "https://localhost:8080/"
        },
        "id": "mjHuOa_JrNe0",
        "outputId": "c1b296f7-34f4-4874-d684-127f8aa3f949"
      },
      "outputs": [
        {
          "output_type": "execute_result",
          "data": {
            "text/plain": [
              "{0: '37GB'}"
            ]
          },
          "metadata": {},
          "execution_count": 6
        }
      ],
      "source": [
        "# print GPU available memory\n",
        "\n",
        "free_in_GB = int(torch.cuda.mem_get_info()[0] / 1024**3)\n",
        "max_memory = f\"{free_in_GB-2}GB\"\n",
        "\n",
        "n_gpus = torch.cuda.device_count()\n",
        "max_memory = {i: max_memory for i in range(n_gpus)}\n",
        "max_memory"
      ]
    },
    {
      "cell_type": "markdown",
      "metadata": {
        "id": "qGyCV_6PED97"
      },
      "source": [
        "## Read in the yaml config for the run"
      ]
    },
    {
      "cell_type": "code",
      "execution_count": 7,
      "metadata": {
        "colab": {
          "base_uri": "https://localhost:8080/"
        },
        "id": "YQtDrkjEED97",
        "outputId": "2464d4ef-3490-40ff-9ab6-bc3bdc632190"
      },
      "outputs": [
        {
          "output_type": "execute_result",
          "data": {
            "text/plain": [
              "{'prompts': {'zero_shot': [\"Q: A juggler has 16 balls. Half of the balls are golf balls and half of the golf balls are blue. How many blue golf balls are there? A: Let's work this out in a step by step way to be sure we have the right answer. Respond as succinctly as possible to answer the question.\",\n",
              "   \"Q: Daniel is in need of a haircut. His barber works Mondays, Wednesdays, and Fridays. So, Daniel went in for a haircut on Sunday. Does this make logical sense? A: Let's work this out in a step by step way to be sure we have the right answer. Respond as succinctly as possible to answer the question.\"],\n",
              "  'cot_few_shot': [\"Q: Roger has 5 tennis balls. He buys 2 more cans of tennis balls. Each can has 3 tennis balls. How many tennis balls does have now? A: Let's work this out in a step by step way to be sure we have the right answer. Respond as succinctly as possible to answer the question. Roger started with 5 balls. 2 cans of 3 tennis balls each is 6 tennis balls. 5 + 6 = 11. The answer is 11. Q: The cafeteria had 23 apples. If they used 20 to make lunch and bought 6 more, how many apples do they have? A: Let's work this out in a step by step way to be sure we have the right answer. Respond as succinctly as possible to answer the question.\",\n",
              "   \"Q: Roger has 3 children. Each of his kids invited 4 of their friends to come to the birthday party. All of the friends came to the party. How many children are at the party? A: Let's work this out in a step by step way to be sure we have the right answer. Respond as succinctly as possible to answer the question. Roger has 3 children, each of whom came to the party. Each of them have 4 friends coming over. 3 * 4 = 12. So 12 of their friends came to the party. 12 + 3 = 15. So, there are 15 children at the party in total. The answer is 15. Q: Ben has 4 children. 50% of his kids are in college and no longer live at home. How many of Ben's children still live at home? A: Let's work this out in a step by step way to be sure we have the right answer. Respond as succinctly as possible to answer the question.\"],\n",
              "  'least_to_most': [[\"Q: It takes Amy 4 minutes to climb to the top of a slide. It takes her 1 minute to slide down. How long does each trip take? A: Let's work this out in a step by step way to be sure we have the right answer. Respond as succinctly as possible to answer the question.\",\n",
              "    \"Q: The slide closes in 15 minutes. How many times can she slide before it closes? A: Let's work this out in a step by step way to be sure we have the right answer. Respond as succinctly as possible to answer the question.\"],\n",
              "   [\"Q: It takes Ben 10 minutes to drive to the store. It then takes him 4 minutes to find parking before he can start shopping. How long before he can start shopping? A: Let's work this out in a step by step way to be sure we have the right answer. Respond as succinctly as possible to answer the question.\",\n",
              "    \"Q: The store closes in an hour. Can he make to the store before it closes? A: Let's work this out in a step by step way to be sure we have the right answer. Respond as succinctly as possible to answer the question.\"]],\n",
              "  'tab_cot': [['Jackson is planting tulips. He can fit 6 red tulips in a row and 8 blue tulips in a row. If Jackson buys 36 red tulips and 24 blue tulips, how many rows of flowers will he plant? Format the response as a completion of this table.\\n|step|subquestion|procedure|result|\\n|:---|:----------|:--------|:-----:|',\n",
              "    '\\nTherefore, the answer is'],\n",
              "   ['Example 1: Jackson is planting tulips. He can fit 6 red tulips in a row and 8 blue tulips in a row. If Jackson buys 36 red tulips and 24 blue tulips, how many rows of flowers will he plant? Format the response as a completion of this table.\\n|step|subquestion|procedure|result|\\n|:---|:----------|:--------|:-----:|\\n|1|How many rows of red tulips will Jackson plant?|Divide the total number of red tulips (36) by the number of red tulips per row (6).|36 / 6 = 6 rows|\\n|2|How many rows of blue tulips will Jackson plant?|Divide the total number of blue tulips (24) by the number of blue tulips per row (8).|24 / 8 = 3 rows|\\n|3|How many total rows of flowers will Jackson plant?|Add the number of rows of red tulips (6) to the number of rows of blue tulips (3).|6 + 3 = 9 rows|. \\nTherefore, the answer is Jackson will plant 9 total rows of flowers. Example 2:  Jackson is planting tulips. He can fit 3 red tulips in a row and 4 blue tulips in a row. If Jackson buys 18 red tulips and 12 blue tulips, how many rows of flowers will he plant? Format the response as a completion of this table.\\n|step|subquestion|procedure|result|\\n|:---|:----------|:--------|:-----:|',\n",
              "    '\\nTherefore, the answer is'],\n",
              "   ['Example 1: Jackson is planting tulips. He can fit 6 red tulips in a row and 8 blue tulips in a row. If Jackson buys 36 red tulips and 24 blue tulips, how many rows of flowers will he plant? Format the response as a completion of this table.\\n|step|subquestion|procedure|result|\\n|:---|:----------|:--------|:-----:|\\n|1|How many rows of red tulips will Jackson plant?|Divide the total number of red tulips (36) by the number of red tulips per row (6).|36 / 6 = 6 rows|\\n|2|How many rows of blue tulips will Jackson plant?|Divide the total number of blue tulips (24) by the number of blue tulips per row (8).|24 / 8 = 3 rows|\\n|3|How many total rows of flowers will Jackson plant?|Add the number of rows of red tulips (6) to the number of rows of blue tulips (3).|6 + 3 = 9 rows|. \\nTherefore, the answer is Jackson will plant 9 total rows of flowers. Example 2:  The bakers at the Beverly Hills Bakery baked 200 loaves of bread on Monday morning. They sold 93 loaves in the morning and 39 loaves in the afternoon. A grocery store returned 6 unsold loaves. How many loaves of bread did they have left?\\n|step|subquestion|procedure|result|\\n|:---|:----------|:--------|:-----:|',\n",
              "    '\\nTherefore, the answer is']]}}"
            ]
          },
          "metadata": {},
          "execution_count": 7
        }
      ],
      "source": [
        "with open(\n",
        "    \"/content/LLM-reasoning-pop-quiz/configs/pop_quiz_qa_style_v1.yml\", \"r\"\n",
        ") as file:\n",
        "    pop_quiz = yaml.safe_load(file)\n",
        "pop_quiz"
      ]
    },
    {
      "cell_type": "markdown",
      "metadata": {
        "application/vnd.databricks.v1+cell": {
          "cellMetadata": {
            "byteLimit": 2048000,
            "rowLimit": 10000
          },
          "inputWidgets": {},
          "nuid": "51d69770-8ac6-417f-93ec-5a04e7624f24",
          "showTitle": false,
          "title": ""
        },
        "id": "Rl3EGKoXrNe1"
      },
      "source": [
        "## Load the model"
      ]
    },
    {
      "cell_type": "code",
      "execution_count": 8,
      "metadata": {
        "id": "wJEHXeDeI0zU",
        "colab": {
          "base_uri": "https://localhost:8080/",
          "height": 335,
          "referenced_widgets": [
            "69a44a31fccd48d5bd0c5ad89b998e99",
            "649718a8727b4645a8b1808418f77fb2",
            "e2a0ccb75d954365b8d211a3dcca1f05",
            "011397a38c13494cb2bcfa9f90dacc06",
            "bc28c2bf69b546f7a3712204dc760847",
            "c8f70375dfa249088071cde4911761f9",
            "e581a5de60854676ad899fc2ed5b84d7",
            "80790b7a2c5b4396b7d68a3766ec4070",
            "9a46089696194afeb176c5f4fa0044ff",
            "f756440cbe7a4f40b4885073f797ea3b",
            "b8eb8252a0984939b7dfb5d17a138357"
          ]
        },
        "outputId": "28a3f1b3-5269-4f61-9d85-11f46f0b2d3d"
      },
      "outputs": [
        {
          "output_type": "stream",
          "name": "stdout",
          "text": [
            "Load function recognized for tiiuae/falcon-40b-instruct: falcon_loader\n",
            "Run function recognized for tiiuae/falcon-40b-instruct: falcon\n",
            "\n",
            "===================================BUG REPORT===================================\n",
            "Welcome to bitsandbytes. For bug reports, please run\n",
            "\n",
            "python -m bitsandbytes\n",
            "\n",
            " and submit this information together with your error trace to: https://github.com/TimDettmers/bitsandbytes/issues\n",
            "================================================================================\n",
            "bin /usr/local/lib/python3.10/dist-packages/bitsandbytes/libbitsandbytes_cuda118.so\n",
            "CUDA_SETUP: WARNING! libcudart.so not found in any environmental path. Searching in backup paths...\n",
            "CUDA SETUP: CUDA runtime path found: /usr/local/cuda/lib64/libcudart.so.11.0\n",
            "CUDA SETUP: Highest compute capability among GPUs detected: 8.0\n",
            "CUDA SETUP: Detected CUDA version 118\n",
            "CUDA SETUP: Loading binary /usr/local/lib/python3.10/dist-packages/bitsandbytes/libbitsandbytes_cuda118.so...\n"
          ]
        },
        {
          "output_type": "display_data",
          "data": {
            "text/plain": [
              "Loading checkpoint shards:   0%|          | 0/9 [00:00<?, ?it/s]"
            ],
            "application/vnd.jupyter.widget-view+json": {
              "version_major": 2,
              "version_minor": 0,
              "model_id": "69a44a31fccd48d5bd0c5ad89b998e99"
            }
          },
          "metadata": {}
        }
      ],
      "source": [
        "# load falcon-40b-instruct\n",
        "# see source: https://huggingface.co/tiiuae/falcon-40b-instruct#how-to-get-started-with-the-model\n",
        "\n",
        "# this cell will take a long time, to avoid: deploy the LLM as an API inference endpoint\n",
        "\n",
        "model_id = \"tiiuae/falcon-40b-instruct\"\n",
        "\n",
        "model = llm_boiler(model_id)"
      ]
    },
    {
      "cell_type": "code",
      "execution_count": 9,
      "metadata": {
        "colab": {
          "base_uri": "https://localhost:8080/"
        },
        "id": "Q7XJRdkMMCPR",
        "outputId": "05b65845-da3b-4094-a15f-1e58927929d5"
      },
      "outputs": [
        {
          "output_type": "stream",
          "name": "stdout",
          "text": [
            "falcon \n",
            "\n",
            "PreTrainedTokenizerFast(name_or_path='tiiuae/falcon-40b-instruct', vocab_size=65024, model_max_length=2048, is_fast=True, padding_side='right', truncation_side='right', special_tokens={'eos_token': '<|endoftext|>', 'pad_token': '<|endoftext|>', 'additional_special_tokens': ['>>TITLE<<', '>>ABSTRACT<<', '>>INTRODUCTION<<', '>>SUMMARY<<', '>>COMMENT<<', '>>ANSWER<<', '>>QUESTION<<', '>>DOMAIN<<', '>>PREFIX<<', '>>SUFFIX<<', '>>MIDDLE<<']}, clean_up_tokenization_spaces=True) \n",
            "\n",
            "RWForCausalLM(\n",
            "  (transformer): RWModel(\n",
            "    (word_embeddings): Embedding(65024, 8192)\n",
            "    (h): ModuleList(\n",
            "      (0-59): 60 x DecoderLayer(\n",
            "        (ln_attn): LayerNorm((8192,), eps=1e-05, elementwise_affine=True)\n",
            "        (ln_mlp): LayerNorm((8192,), eps=1e-05, elementwise_affine=True)\n",
            "        (self_attention): Attention(\n",
            "          (maybe_rotary): RotaryEmbedding()\n",
            "          (query_key_value): Linear4bit(in_features=8192, out_features=9216, bias=False)\n",
            "          (dense): Linear4bit(in_features=8192, out_features=8192, bias=False)\n",
            "          (attention_dropout): Dropout(p=0.0, inplace=False)\n",
            "        )\n",
            "        (mlp): MLP(\n",
            "          (dense_h_to_4h): Linear4bit(in_features=8192, out_features=32768, bias=False)\n",
            "          (act): GELU(approximate='none')\n",
            "          (dense_4h_to_h): Linear4bit(in_features=32768, out_features=8192, bias=False)\n",
            "        )\n",
            "      )\n",
            "    )\n",
            "    (ln_f): LayerNorm((8192,), eps=1e-05, elementwise_affine=True)\n",
            "  )\n",
            "  (lm_head): Linear(in_features=8192, out_features=65024, bias=False)\n",
            ") \n",
            "\n"
          ]
        }
      ],
      "source": [
        "print(model.name, \"\\n\")\n",
        "print(model.tokenizer, \"\\n\")\n",
        "print(model.model, \"\\n\")"
      ]
    },
    {
      "cell_type": "markdown",
      "metadata": {
        "application/vnd.databricks.v1+cell": {
          "cellMetadata": {
            "byteLimit": 2048000,
            "rowLimit": 10000
          },
          "inputWidgets": {},
          "nuid": "bcb267c9-c76b-4d56-a411-483841bb787a",
          "showTitle": false,
          "title": ""
        },
        "id": "6MxLSoPXrNe2"
      },
      "source": [
        "## Run the model\n",
        "\n",
        "* For text generation options, refer to [https://huggingface.co/docs/transformers/main_classes/pipelines#transformers.TextGenerationPipeline](https://huggingface.co/docs/transformers/main_classes/pipelines#transformers.TextGenerationPipeline)\n",
        "* Below prompts are borrowed from [https://github.com/openai/openai-cookbook/blob/main/techniques_to_improve_reliability.md](https://github.com/openai/openai-cookbook/blob/main/techniques_to_improve_reliability.md)"
      ]
    },
    {
      "cell_type": "markdown",
      "metadata": {
        "id": "EhQuAUHOrNM5"
      },
      "source": [
        "### Example 1: Zero-shot reasoning conditioned on good performance\n",
        "* From https://arxiv.org/abs/2205.11916"
      ]
    },
    {
      "cell_type": "code",
      "execution_count": null,
      "metadata": {
        "colab": {
          "base_uri": "https://localhost:8080/"
        },
        "id": "5pR8hmCkNF_U",
        "outputId": "75595945-de75-4613-e091-9a5803403f2b"
      },
      "outputs": [
        {
          "output_type": "stream",
          "name": "stdout",
          "text": [
            "Question 1.1\n",
            "Prompt: \"Q: A juggler has 16 balls. Half of the balls are golf balls and half of the golf balls are blue. How many blue golf balls are there? A: Let's work this out in a step by step way to be sure we have the right answer. Respond as succinctly as possible to answer the question.\"\n",
            "\n",
            "Q: A juggler has 16 balls. Half of the balls are golf balls and half of the golf balls are blue. How many blue golf balls are there? A: Let's work this out in a step by step way to be sure we have the right answer. Respond as succinctly as possible to answer the question.\n",
            "There are 8 golf balls in total. Half of the golf balls are blue, so there are 4 blue golf balls.<|endoftext|>\n",
            "--- 21.671818494796753 seconds ---\n",
            "\n",
            "\n",
            "Text generations: \"\n",
            "There are 8 golf balls in total. Half of the golf balls are blue, so there are 4 blue golf balls.\"\n",
            "\n",
            "\n",
            "Question 1.2\n",
            "Prompt: \"Q: Daniel is in need of a haircut. His barber works Mondays, Wednesdays, and Fridays. So, Daniel went in for a haircut on Sunday. Does this make logical sense? A: Let's work this out in a step by step way to be sure we have the right answer. Respond as succinctly as possible to answer the question.\"\n",
            "\n",
            "Q: Daniel is in need of a haircut. His barber works Mondays, Wednesdays, and Fridays. So, Daniel went in for a haircut on Sunday. Does this make logical sense? A: Let's work this out in a step by step way to be sure we have the right answer. Respond as succinctly as possible to answer the question.\n",
            "No, it does not make logical sense for Daniel to go in for a haircut on Sunday. His barber works on Mondays, Wednesdays, and Fridays, so Daniel should have waited until one of those days to get a haircut.<|endoftext|>\n",
            "--- 34.27945065498352 seconds ---\n",
            "\n",
            "\n",
            "Text generations: \"\n",
            "No, it does not make logical sense for Daniel to go in for a haircut on Sunday. His barber works on Mondays, Wednesdays, and Fridays, so Daniel should have waited until one of those days to get a haircut.\"\n",
            "\n",
            "\n"
          ]
        }
      ],
      "source": [
        "# run zero shot questions\n",
        "\n",
        "for itr, prompt in enumerate(pop_quiz[\"prompts\"][\"zero_shot\"]):\n",
        "    print(f\"Question 1.{itr+1}\")\n",
        "    print(f'Prompt: \"{prompt}\"\\n')\n",
        "    start_time = time.time()\n",
        "    generated_text = model.run(\n",
        "        prompt=prompt,\n",
        "        eos_token_ids=model.tokenizer.eos_token_id,\n",
        "        max_new_tokens=256,\n",
        "        temperature=0.01,\n",
        "        do_sample=True,\n",
        "        top_p=0.92,\n",
        "        top_k=50,\n",
        "        num_return_sequences=1,\n",
        "    )\n",
        "    print(\"--- %s seconds ---\" % (time.time() - start_time))\n",
        "    print(\"\\n\")\n",
        "    print(f'Text generations: \"{generated_text}\"\\n\\n')"
      ]
    },
    {
      "cell_type": "markdown",
      "metadata": {
        "id": "VklIoMqnrmKa"
      },
      "source": [
        "### Example 2: Chain-of-thought reasoning with few-shot examples\n",
        "* From https://ai.googleblog.com/2022/05/language-models-perform-reasoning-via.html\n"
      ]
    },
    {
      "cell_type": "code",
      "execution_count": null,
      "metadata": {
        "colab": {
          "base_uri": "https://localhost:8080/"
        },
        "id": "XHgXXADcE29i",
        "outputId": "95900d2e-5583-40c7-ca27-26a8b31d7b8a"
      },
      "outputs": [
        {
          "output_type": "stream",
          "name": "stdout",
          "text": [
            "Question 2.1\n",
            "Prompt: \"Q: Roger has 5 tennis balls. He buys 2 more cans of tennis balls. Each can has 3 tennis balls. How many tennis balls does have now? A: Let's work this out in a step by step way to be sure we have the right answer. Respond as succinctly as possible to answer the question. Roger started with 5 balls. 2 cans of 3 tennis balls each is 6 tennis balls. 5 + 6 = 11. The answer is 11. Q: The cafeteria had 23 apples. If they used 20 to make lunch and bought 6 more, how many apples do they have? A: Let's work this out in a step by step way to be sure we have the right answer. Respond as succinctly as possible to answer the question.\"\n",
            "\n",
            "Q: Roger has 5 tennis balls. He buys 2 more cans of tennis balls. Each can has 3 tennis balls. How many tennis balls does have now? A: Let's work this out in a step by step way to be sure we have the right answer. Respond as succinctly as possible to answer the question. Roger started with 5 balls. 2 cans of 3 tennis balls each is 6 tennis balls. 5 + 6 = 11. The answer is 11. Q: The cafeteria had 23 apples. If they used 20 to make lunch and bought 6 more, how many apples do they have? A: Let's work this out in a step by step way to be sure we have the right answer. Respond as succinctly as possible to answer the question. The cafeteria started with 23 apples. They used 20 to make lunch, so they have 3 apples left. They bought 6 more, so they have 9 apples now. The answer is 9.<|endoftext|>\n",
            "--- 33.7596755027771 seconds ---\n",
            "\n",
            "\n",
            "Text generations: \"The cafeteria started with 23 apples. They used 20 to make lunch, so they have 3 apples left. They bought 6 more, so they have 9 apples now. The answer is 9.\"\n",
            "\n",
            "\n",
            "Question 2.2\n",
            "Prompt: \"Q: Roger has 3 children. Each of his kids invited 4 of their friends to come to the birthday party. All of the friends came to the party. How many children are at the party? A: Let's work this out in a step by step way to be sure we have the right answer. Respond as succinctly as possible to answer the question. Roger has 3 children, each of whom came to the party. Each of them have 4 friends coming over. 3 * 4 = 12. So 12 of their friends came to the party. 12 + 3 = 15. So, there are 15 children at the party in total. The answer is 15. Q: Ben has 4 children. 50% of his kids are in college and no longer live at home. How many of Ben's children still live at home? A: Let's work this out in a step by step way to be sure we have the right answer. Respond as succinctly as possible to answer the question.\"\n",
            "\n",
            "Q: Roger has 3 children. Each of his kids invited 4 of their friends to come to the birthday party. All of the friends came to the party. How many children are at the party? A: Let's work this out in a step by step way to be sure we have the right answer. Respond as succinctly as possible to answer the question. Roger has 3 children, each of whom came to the party. Each of them have 4 friends coming over. 3 * 4 = 12. So 12 of their friends came to the party. 12 + 3 = 15. So, there are 15 children at the party in total. The answer is 15. Q: Ben has 4 children. 50% of his kids are in college and no longer live at home. How many of Ben's children still live at home? A: Let's work this out in a step by step way to be sure we have the right answer. Respond as succinctly as possible to answer the question. Ben has 4 children. 50% of his children are in college and no longer live at home. So, 2 of his children are in college. Therefore, 2 of his children still live at home. The answer is 2.<|endoftext|>\n",
            "--- 39.709752321243286 seconds ---\n",
            "\n",
            "\n",
            "Text generations: \"Ben has 4 children. 50% of his children are in college and no longer live at home. So, 2 of his children are in college. Therefore, 2 of his children still live at home. The answer is 2.\"\n",
            "\n",
            "\n"
          ]
        }
      ],
      "source": [
        "# run cot few-shot questions\n",
        "\n",
        "for itr, prompt in enumerate(pop_quiz[\"prompts\"][\"cot_few_shot\"]):\n",
        "    print(f\"Question 2.{itr+1}\")\n",
        "    print(f'Prompt: \"{prompt}\"\\n')\n",
        "    start_time = time.time()\n",
        "    generated_text = model.run(\n",
        "        prompt=prompt,\n",
        "        eos_token_ids=model.tokenizer.eos_token_id,\n",
        "        max_new_tokens=256,\n",
        "        temperature=0.01,\n",
        "        do_sample=True,\n",
        "        top_p=0.92,\n",
        "        top_k=50,\n",
        "        num_return_sequences=1,\n",
        "    )\n",
        "    print(\"--- %s seconds ---\" % (time.time() - start_time))\n",
        "    print(\"\\n\")\n",
        "    print(f'Text generations: \"{generated_text}\"\\n\\n')"
      ]
    },
    {
      "cell_type": "markdown",
      "metadata": {
        "id": "MkgbWXQRrv4h"
      },
      "source": [
        "### Example 3: Least to most prompting\n",
        "* From https://arxiv.org/abs/2205.10625\n"
      ]
    },
    {
      "cell_type": "code",
      "execution_count": null,
      "metadata": {
        "colab": {
          "base_uri": "https://localhost:8080/"
        },
        "id": "YB7Zi75xP6v3",
        "outputId": "03b2f423-d822-4753-9e1f-b2a04c78307c"
      },
      "outputs": [
        {
          "output_type": "stream",
          "name": "stdout",
          "text": [
            "Question 3.1\n",
            "Prompt: \"Q: It takes Amy 4 minutes to climb to the top of a slide. It takes her 1 minute to slide down. How long does each trip take? A: Let's work this out in a step by step way to be sure we have the right answer. Respond as succinctly as possible to answer the question.\"\n",
            "\n",
            "Q: It takes Amy 4 minutes to climb to the top of a slide. It takes her 1 minute to slide down. How long does each trip take? A: Let's work this out in a step by step way to be sure we have the right answer. Respond as succinctly as possible to answer the question.\n",
            "Amy climbs up the slide in 4 minutes, so the time it takes to climb up is 4 minutes. She slides down in 1 minute, so the time it takes to slide down is 1 minute. Therefore, the total time it takes for one trip is 5 minutes (4 minutes to climb up + 1 minute to slide down).<|endoftext|>\n",
            "--- 55.555211544036865 seconds ---\n",
            "\n",
            "\n",
            "Text generation: \"\n",
            "Amy climbs up the slide in 4 minutes, so the time it takes to climb up is 4 minutes. She slides down in 1 minute, so the time it takes to slide down is 1 minute. Therefore, the total time it takes for one trip is 5 minutes (4 minutes to climb up + 1 minute to slide down).\"\n",
            "\n",
            "Prompt: \"Q: It takes Amy 4 minutes to climb to the top of a slide. It takes her 1 minute to slide down. How long does each trip take? A: Let's work this out in a step by step way to be sure we have the right answer. Respond as succinctly as possible to answer the question. \n",
            "Amy climbs up the slide in 4 minutes, so the time it takes to climb up is 4 minutes. She slides down in 1 minute, so the time it takes to slide down is 1 minute. Therefore, the total time it takes for one trip is 5 minutes (4 minutes to climb up + 1 minute to slide down). Q: The slide closes in 15 minutes. How many times can she slide before it closes? A: Let's work this out in a step by step way to be sure we have the right answer. Respond as succinctly as possible to answer the question.\"\n",
            "\n",
            "Q: It takes Amy 4 minutes to climb to the top of a slide. It takes her 1 minute to slide down. How long does each trip take? A: Let's work this out in a step by step way to be sure we have the right answer. Respond as succinctly as possible to answer the question. \n",
            "Amy climbs up the slide in 4 minutes, so the time it takes to climb up is 4 minutes. She slides down in 1 minute, so the time it takes to slide down is 1 minute. Therefore, the total time it takes for one trip is 5 minutes (4 minutes to climb up + 1 minute to slide down). Q: The slide closes in 15 minutes. How many times can she slide before it closes? A: Let's work this out in a step by step way to be sure we have the right answer. Respond as succinctly as possible to answer the question. \n",
            "Amy can slide down the slide 15/5 = 3 times before the slide closes.<|endoftext|>\n",
            "--- 17.259860515594482 seconds ---\n",
            "\n",
            "\n",
            "Text generation: \"\n",
            "Amy can slide down the slide 15/5 = 3 times before the slide closes.\"\n",
            "\n",
            "Question 3.2\n",
            "Prompt: \"Q: It takes Ben 10 minutes to drive to the store. It then takes him 4 minutes to find parking before he can start shopping. How long before he can start shopping? A: Let's work this out in a step by step way to be sure we have the right answer. Respond as succinctly as possible to answer the question.\"\n",
            "\n",
            "Q: It takes Ben 10 minutes to drive to the store. It then takes him 4 minutes to find parking before he can start shopping. How long before he can start shopping? A: Let's work this out in a step by step way to be sure we have the right answer. Respond as succinctly as possible to answer the question.\n",
            "Ben takes 10 minutes to drive to the store. He then takes 4 minutes to find parking. Therefore, it takes Ben 14 minutes to get to the store and find parking. Once he finds parking, he can start shopping.<|endoftext|>\n",
            "--- 36.4535346031189 seconds ---\n",
            "\n",
            "\n",
            "Text generation: \"\n",
            "Ben takes 10 minutes to drive to the store. He then takes 4 minutes to find parking. Therefore, it takes Ben 14 minutes to get to the store and find parking. Once he finds parking, he can start shopping.\"\n",
            "\n",
            "Prompt: \"Q: It takes Ben 10 minutes to drive to the store. It then takes him 4 minutes to find parking before he can start shopping. How long before he can start shopping? A: Let's work this out in a step by step way to be sure we have the right answer. Respond as succinctly as possible to answer the question. \n",
            "Ben takes 10 minutes to drive to the store. He then takes 4 minutes to find parking. Therefore, it takes Ben 14 minutes to get to the store and find parking. Once he finds parking, he can start shopping. Q: The store closes in an hour. Can he make to the store before it closes? A: Let's work this out in a step by step way to be sure we have the right answer. Respond as succinctly as possible to answer the question.\"\n",
            "\n",
            "Q: It takes Ben 10 minutes to drive to the store. It then takes him 4 minutes to find parking before he can start shopping. How long before he can start shopping? A: Let's work this out in a step by step way to be sure we have the right answer. Respond as succinctly as possible to answer the question. \n",
            "Ben takes 10 minutes to drive to the store. He then takes 4 minutes to find parking. Therefore, it takes Ben 14 minutes to get to the store and find parking. Once he finds parking, he can start shopping. Q: The store closes in an hour. Can he make to the store before it closes? A: Let's work this out in a step by step way to be sure we have the right answer. Respond as succinctly as possible to answer the question. \n",
            "Ben has 46 minutes to shop before the store closes. He can make it to the store before it closes.<|endoftext|>\n",
            "--- 19.441073179244995 seconds ---\n",
            "\n",
            "\n",
            "Text generation: \"\n",
            "Ben has 46 minutes to shop before the store closes. He can make it to the store before it closes.\"\n",
            "\n"
          ]
        }
      ],
      "source": [
        "# run least to most questions\n",
        "\n",
        "for itr, prompts in enumerate(pop_quiz[\"prompts\"][\"least_to_most\"]):\n",
        "    print(f\"Question 3.{itr+1}\")\n",
        "    # Start with sub question #1\n",
        "    sub_question_1 = prompts[0]\n",
        "    print(f'Prompt: \"{sub_question_1}\"\\n')\n",
        "\n",
        "    start_time = time.time()\n",
        "    res_1 = model.run(\n",
        "        prompt=sub_question_1,\n",
        "        eos_token_ids=model.tokenizer.eos_token_id,\n",
        "        max_new_tokens=256,\n",
        "        temperature=0.01,\n",
        "        do_sample=True,\n",
        "        top_p=0.92,\n",
        "        top_k=50,\n",
        "        num_return_sequences=1,\n",
        "    )\n",
        "    print(\"--- %s seconds ---\" % (time.time() - start_time))\n",
        "    print(\"\\n\")\n",
        "    print(f'Text generation: \"{res_1}\"\\n')\n",
        "\n",
        "    # Now do sub question #2 by appending answer to sub question #1\n",
        "    sub_question_2 = f\"{sub_question_1} {res_1} {prompts[1]}\"\n",
        "    print(f'Prompt: \"{sub_question_2}\"\\n')\n",
        "\n",
        "    start_time = time.time()\n",
        "    res_2 = model.run(\n",
        "        prompt=sub_question_2,\n",
        "        eos_token_ids=model.tokenizer.eos_token_id,\n",
        "        max_new_tokens=256,\n",
        "        temperature=0.01,\n",
        "        do_sample=True,\n",
        "        top_p=0.92,\n",
        "        top_k=50,\n",
        "        num_return_sequences=1,\n",
        "    )\n",
        "    print(\"--- %s seconds ---\" % (time.time() - start_time))\n",
        "    print(\"\\n\")\n",
        "    print(f'Text generation: \"{res_2}\"\\n')"
      ]
    },
    {
      "cell_type": "markdown",
      "source": [
        "### Example 4: Tab-CoT\n",
        "\n",
        "* See https://arxiv.org/abs/2305.17812"
      ],
      "metadata": {
        "id": "No9YFIU-lnjX"
      }
    },
    {
      "cell_type": "code",
      "execution_count": 10,
      "metadata": {
        "id": "gyEe9za5E6oE",
        "colab": {
          "base_uri": "https://localhost:8080/"
        },
        "outputId": "ec902720-7d2e-4983-ae13-aa24fa6f3ec7"
      },
      "outputs": [
        {
          "output_type": "stream",
          "name": "stdout",
          "text": [
            "Question 4.1\n",
            "Prompt: \"Jackson is planting tulips. He can fit 6 red tulips in a row and 8 blue tulips in a row. If Jackson buys 36 red tulips and 24 blue tulips, how many rows of flowers will he plant? Format the response as a completion of this table.\n",
            "|step|subquestion|procedure|result|\n",
            "|:---|:----------|:--------|:-----:|\"\n",
            "\n",
            "Jackson is planting tulips. He can fit 6 red tulips in a row and 8 blue tulips in a row. If Jackson buys 36 red tulips and 24 blue tulips, how many rows of flowers will he plant? Format the response as a completion of this table.\n",
            "|step|subquestion|procedure|result|\n",
            "|:---|:----------|:--------|:-----:|\n",
            "|1|How many red tulips can Jackson fit in a row?|6|\n",
            "|2|How many blue tulips can Jackson fit in a row?|8|\n",
            "|3|How many red tulips did Jackson buy?|36|\n",
            "|4|How many blue tulips did Jackson buy?|24|\n",
            "|5|How many rows of flowers will Jackson plant?|6|\n",
            "|6|How many rows of blue tulips will Jackson plant?|2|\n",
            "|7|How many rows of red tulips will Jackson plant?|4|\n",
            "|8|How many rows of flowers will Jackson plant in total?|6+2+4=12|<|endoftext|>\n",
            "--- 113.85031414031982 seconds ---\n",
            "\n",
            "\n",
            "Text generation: \"\n",
            "|1|How many red tulips can Jackson fit in a row?|6|\n",
            "|2|How many blue tulips can Jackson fit in a row?|8|\n",
            "|3|How many red tulips did Jackson buy?|36|\n",
            "|4|How many blue tulips did Jackson buy?|24|\n",
            "|5|How many rows of flowers will Jackson plant?|6|\n",
            "|6|How many rows of blue tulips will Jackson plant?|2|\n",
            "|7|How many rows of red tulips will Jackson plant?|4|\n",
            "|8|How many rows of flowers will Jackson plant in total?|6+2+4=12|\"\n",
            "\n",
            "Prompt: \"Jackson is planting tulips. He can fit 6 red tulips in a row and 8 blue tulips in a row. If Jackson buys 36 red tulips and 24 blue tulips, how many rows of flowers will he plant? Format the response as a completion of this table.\n",
            "|step|subquestion|procedure|result|\n",
            "|:---|:----------|:--------|:-----:| \n",
            "|1|How many red tulips can Jackson fit in a row?|6|\n",
            "|2|How many blue tulips can Jackson fit in a row?|8|\n",
            "|3|How many red tulips did Jackson buy?|36|\n",
            "|4|How many blue tulips did Jackson buy?|24|\n",
            "|5|How many rows of flowers will Jackson plant?|6|\n",
            "|6|How many rows of blue tulips will Jackson plant?|2|\n",
            "|7|How many rows of red tulips will Jackson plant?|4|\n",
            "|8|How many rows of flowers will Jackson plant in total?|6+2+4=12| \n",
            "Therefore, the answer is\"\n",
            "\n",
            "Jackson is planting tulips. He can fit 6 red tulips in a row and 8 blue tulips in a row. If Jackson buys 36 red tulips and 24 blue tulips, how many rows of flowers will he plant? Format the response as a completion of this table.\n",
            "|step|subquestion|procedure|result|\n",
            "|:---|:----------|:--------|:-----:| \n",
            "|1|How many red tulips can Jackson fit in a row?|6|\n",
            "|2|How many blue tulips can Jackson fit in a row?|8|\n",
            "|3|How many red tulips did Jackson buy?|36|\n",
            "|4|How many blue tulips did Jackson buy?|24|\n",
            "|5|How many rows of flowers will Jackson plant?|6|\n",
            "|6|How many rows of blue tulips will Jackson plant?|2|\n",
            "|7|How many rows of red tulips will Jackson plant?|4|\n",
            "|8|How many rows of flowers will Jackson plant in total?|6+2+4=12| \n",
            "Therefore, the answer is 12.<|endoftext|>\n",
            "--- 3.0609140396118164 seconds ---\n",
            "\n",
            "\n",
            "Text generation: \"12.\"\n",
            "\n",
            "Question 4.2\n",
            "Prompt: \"Example 1: Jackson is planting tulips. He can fit 6 red tulips in a row and 8 blue tulips in a row. If Jackson buys 36 red tulips and 24 blue tulips, how many rows of flowers will he plant? Format the response as a completion of this table.\n",
            "|step|subquestion|procedure|result|\n",
            "|:---|:----------|:--------|:-----:|\n",
            "|1|How many rows of red tulips will Jackson plant?|Divide the total number of red tulips (36) by the number of red tulips per row (6).|36 / 6 = 6 rows|\n",
            "|2|How many rows of blue tulips will Jackson plant?|Divide the total number of blue tulips (24) by the number of blue tulips per row (8).|24 / 8 = 3 rows|\n",
            "|3|How many total rows of flowers will Jackson plant?|Add the number of rows of red tulips (6) to the number of rows of blue tulips (3).|6 + 3 = 9 rows|. \n",
            "Therefore, the answer is Jackson will plant 9 total rows of flowers. Example 2:  Jackson is planting tulips. He can fit 3 red tulips in a row and 4 blue tulips in a row. If Jackson buys 18 red tulips and 12 blue tulips, how many rows of flowers will he plant? Format the response as a completion of this table.\n",
            "|step|subquestion|procedure|result|\n",
            "|:---|:----------|:--------|:-----:|\"\n",
            "\n",
            "Example 1: Jackson is planting tulips. He can fit 6 red tulips in a row and 8 blue tulips in a row. If Jackson buys 36 red tulips and 24 blue tulips, how many rows of flowers will he plant? Format the response as a completion of this table.\n",
            "|step|subquestion|procedure|result|\n",
            "|:---|:----------|:--------|:-----:|\n",
            "|1|How many rows of red tulips will Jackson plant?|Divide the total number of red tulips (36) by the number of red tulips per row (6).|36 / 6 = 6 rows|\n",
            "|2|How many rows of blue tulips will Jackson plant?|Divide the total number of blue tulips (24) by the number of blue tulips per row (8).|24 / 8 = 3 rows|\n",
            "|3|How many total rows of flowers will Jackson plant?|Add the number of rows of red tulips (6) to the number of rows of blue tulips (3).|6 + 3 = 9 rows|. \n",
            "Therefore, the answer is Jackson will plant 9 total rows of flowers. Example 2:  Jackson is planting tulips. He can fit 3 red tulips in a row and 4 blue tulips in a row. If Jackson buys 18 red tulips and 12 blue tulips, how many rows of flowers will he plant? Format the response as a completion of this table.\n",
            "|step|subquestion|procedure|result|\n",
            "|:---|:----------|:--------|:-----:|\n",
            "|1|How many rows of red tulips will Jackson plant?|Divide the total number of red tulips (18) by the number of red tulips per row (3).|18 / 3 = 6 rows|\n",
            "|2|How many rows of blue tulips will Jackson plant?|Divide the total number of blue tulips (12) by the number of blue tulips per row (4).|12 / 4 = 3 rows|\n",
            "|3|How many total rows of flowers will Jackson plant?|Add the number of rows of red tulips (6) to the number of rows of blue tulips (3).|6 + 3 = 9 rows|. \n",
            "Therefore, the answer is Jackson will plant 9 total rows of flowers.<|endoftext|>\n",
            "--- 154.28480768203735 seconds ---\n",
            "\n",
            "\n",
            "Text generation: \"\n",
            "|1|How many rows of red tulips will Jackson plant?|Divide the total number of red tulips (18) by the number of red tulips per row (3).|18 / 3 = 6 rows|\n",
            "|2|How many rows of blue tulips will Jackson plant?|Divide the total number of blue tulips (12) by the number of blue tulips per row (4).|12 / 4 = 3 rows|\n",
            "|3|How many total rows of flowers will Jackson plant?|Add the number of rows of red tulips (6) to the number of rows of blue tulips (3).|6 + 3 = 9 rows|. \n",
            "Therefore, the answer is Jackson will plant 9 total rows of flowers.\"\n",
            "\n",
            "Prompt: \"Example 1: Jackson is planting tulips. He can fit 6 red tulips in a row and 8 blue tulips in a row. If Jackson buys 36 red tulips and 24 blue tulips, how many rows of flowers will he plant? Format the response as a completion of this table.\n",
            "|step|subquestion|procedure|result|\n",
            "|:---|:----------|:--------|:-----:|\n",
            "|1|How many rows of red tulips will Jackson plant?|Divide the total number of red tulips (36) by the number of red tulips per row (6).|36 / 6 = 6 rows|\n",
            "|2|How many rows of blue tulips will Jackson plant?|Divide the total number of blue tulips (24) by the number of blue tulips per row (8).|24 / 8 = 3 rows|\n",
            "|3|How many total rows of flowers will Jackson plant?|Add the number of rows of red tulips (6) to the number of rows of blue tulips (3).|6 + 3 = 9 rows|. \n",
            "Therefore, the answer is Jackson will plant 9 total rows of flowers. Example 2:  Jackson is planting tulips. He can fit 3 red tulips in a row and 4 blue tulips in a row. If Jackson buys 18 red tulips and 12 blue tulips, how many rows of flowers will he plant? Format the response as a completion of this table.\n",
            "|step|subquestion|procedure|result|\n",
            "|:---|:----------|:--------|:-----:| \n",
            "|1|How many rows of red tulips will Jackson plant?|Divide the total number of red tulips (18) by the number of red tulips per row (3).|18 / 3 = 6 rows|\n",
            "|2|How many rows of blue tulips will Jackson plant?|Divide the total number of blue tulips (12) by the number of blue tulips per row (4).|12 / 4 = 3 rows|\n",
            "|3|How many total rows of flowers will Jackson plant?|Add the number of rows of red tulips (6) to the number of rows of blue tulips (3).|6 + 3 = 9 rows|. \n",
            "Therefore, the answer is Jackson will plant 9 total rows of flowers. \n",
            "Therefore, the answer is\"\n",
            "\n",
            "Example 1: Jackson is planting tulips. He can fit 6 red tulips in a row and 8 blue tulips in a row. If Jackson buys 36 red tulips and 24 blue tulips, how many rows of flowers will he plant? Format the response as a completion of this table.\n",
            "|step|subquestion|procedure|result|\n",
            "|:---|:----------|:--------|:-----:|\n",
            "|1|How many rows of red tulips will Jackson plant?|Divide the total number of red tulips (36) by the number of red tulips per row (6).|36 / 6 = 6 rows|\n",
            "|2|How many rows of blue tulips will Jackson plant?|Divide the total number of blue tulips (24) by the number of blue tulips per row (8).|24 / 8 = 3 rows|\n",
            "|3|How many total rows of flowers will Jackson plant?|Add the number of rows of red tulips (6) to the number of rows of blue tulips (3).|6 + 3 = 9 rows|. \n",
            "Therefore, the answer is Jackson will plant 9 total rows of flowers. Example 2:  Jackson is planting tulips. He can fit 3 red tulips in a row and 4 blue tulips in a row. If Jackson buys 18 red tulips and 12 blue tulips, how many rows of flowers will he plant? Format the response as a completion of this table.\n",
            "|step|subquestion|procedure|result|\n",
            "|:---|:----------|:--------|:-----:| \n",
            "|1|How many rows of red tulips will Jackson plant?|Divide the total number of red tulips (18) by the number of red tulips per row (3).|18 / 3 = 6 rows|\n",
            "|2|How many rows of blue tulips will Jackson plant?|Divide the total number of blue tulips (12) by the number of blue tulips per row (4).|12 / 4 = 3 rows|\n",
            "|3|How many total rows of flowers will Jackson plant?|Add the number of rows of red tulips (6) to the number of rows of blue tulips (3).|6 + 3 = 9 rows|. \n",
            "Therefore, the answer is Jackson will plant 9 total rows of flowers. \n",
            "Therefore, the answer is Jackson will plant 9 total rows of flowers.<|endoftext|>\n",
            "--- 9.946541547775269 seconds ---\n",
            "\n",
            "\n",
            "Text generation: \"Jackson will plant 9 total rows of flowers.\"\n",
            "\n",
            "Question 4.3\n",
            "Prompt: \"Example 1: Jackson is planting tulips. He can fit 6 red tulips in a row and 8 blue tulips in a row. If Jackson buys 36 red tulips and 24 blue tulips, how many rows of flowers will he plant? Format the response as a completion of this table.\n",
            "|step|subquestion|procedure|result|\n",
            "|:---|:----------|:--------|:-----:|\n",
            "|1|How many rows of red tulips will Jackson plant?|Divide the total number of red tulips (36) by the number of red tulips per row (6).|36 / 6 = 6 rows|\n",
            "|2|How many rows of blue tulips will Jackson plant?|Divide the total number of blue tulips (24) by the number of blue tulips per row (8).|24 / 8 = 3 rows|\n",
            "|3|How many total rows of flowers will Jackson plant?|Add the number of rows of red tulips (6) to the number of rows of blue tulips (3).|6 + 3 = 9 rows|. \n",
            "Therefore, the answer is Jackson will plant 9 total rows of flowers. Example 2:  The bakers at the Beverly Hills Bakery baked 200 loaves of bread on Monday morning. They sold 93 loaves in the morning and 39 loaves in the afternoon. A grocery store returned 6 unsold loaves. How many loaves of bread did they have left?\n",
            "|step|subquestion|procedure|result|\n",
            "|:---|:----------|:--------|:-----:|\"\n",
            "\n",
            "Example 1: Jackson is planting tulips. He can fit 6 red tulips in a row and 8 blue tulips in a row. If Jackson buys 36 red tulips and 24 blue tulips, how many rows of flowers will he plant? Format the response as a completion of this table.\n",
            "|step|subquestion|procedure|result|\n",
            "|:---|:----------|:--------|:-----:|\n",
            "|1|How many rows of red tulips will Jackson plant?|Divide the total number of red tulips (36) by the number of red tulips per row (6).|36 / 6 = 6 rows|\n",
            "|2|How many rows of blue tulips will Jackson plant?|Divide the total number of blue tulips (24) by the number of blue tulips per row (8).|24 / 8 = 3 rows|\n",
            "|3|How many total rows of flowers will Jackson plant?|Add the number of rows of red tulips (6) to the number of rows of blue tulips (3).|6 + 3 = 9 rows|. \n",
            "Therefore, the answer is Jackson will plant 9 total rows of flowers. Example 2:  The bakers at the Beverly Hills Bakery baked 200 loaves of bread on Monday morning. They sold 93 loaves in the morning and 39 loaves in the afternoon. A grocery store returned 6 unsold loaves. How many loaves of bread did they have left?\n",
            "|step|subquestion|procedure|result|\n",
            "|:---|:----------|:--------|:-----:|\n",
            "|1|How many loaves of bread did the bakery sell in the morning?|93|\n",
            "|2|How many loaves of bread did the bakery sell in the afternoon?|39|\n",
            "|3|How many loaves of bread did the bakery have left after the morning and afternoon sales?|200 - 93 - 39 = 68|\n",
            "|4|How many loaves of bread did the grocery store return?|6|\n",
            "|5|How many loaves of bread did the bakery have left after the grocery store returned the unsold loaves?|68 - 6 = 62|\n",
            "|6|How many loaves of bread did the bakery have left after the morning and afternoon sales and the grocery store returned the unsold loaves?|62|\n",
            "Therefore, the answer is the bakery had 62 loaves of bread left after the morning and afternoon sales and the grocery store returned the unsold loaves.<|endoftext|>\n",
            "--- 175.55235838890076 seconds ---\n",
            "\n",
            "\n",
            "Text generation: \"\n",
            "|1|How many loaves of bread did the bakery sell in the morning?|93|\n",
            "|2|How many loaves of bread did the bakery sell in the afternoon?|39|\n",
            "|3|How many loaves of bread did the bakery have left after the morning and afternoon sales?|200 - 93 - 39 = 68|\n",
            "|4|How many loaves of bread did the grocery store return?|6|\n",
            "|5|How many loaves of bread did the bakery have left after the grocery store returned the unsold loaves?|68 - 6 = 62|\n",
            "|6|How many loaves of bread did the bakery have left after the morning and afternoon sales and the grocery store returned the unsold loaves?|62|\n",
            "Therefore, the answer is the bakery had 62 loaves of bread left after the morning and afternoon sales and the grocery store returned the unsold loaves.\"\n",
            "\n",
            "Prompt: \"Example 1: Jackson is planting tulips. He can fit 6 red tulips in a row and 8 blue tulips in a row. If Jackson buys 36 red tulips and 24 blue tulips, how many rows of flowers will he plant? Format the response as a completion of this table.\n",
            "|step|subquestion|procedure|result|\n",
            "|:---|:----------|:--------|:-----:|\n",
            "|1|How many rows of red tulips will Jackson plant?|Divide the total number of red tulips (36) by the number of red tulips per row (6).|36 / 6 = 6 rows|\n",
            "|2|How many rows of blue tulips will Jackson plant?|Divide the total number of blue tulips (24) by the number of blue tulips per row (8).|24 / 8 = 3 rows|\n",
            "|3|How many total rows of flowers will Jackson plant?|Add the number of rows of red tulips (6) to the number of rows of blue tulips (3).|6 + 3 = 9 rows|. \n",
            "Therefore, the answer is Jackson will plant 9 total rows of flowers. Example 2:  The bakers at the Beverly Hills Bakery baked 200 loaves of bread on Monday morning. They sold 93 loaves in the morning and 39 loaves in the afternoon. A grocery store returned 6 unsold loaves. How many loaves of bread did they have left?\n",
            "|step|subquestion|procedure|result|\n",
            "|:---|:----------|:--------|:-----:| \n",
            "|1|How many loaves of bread did the bakery sell in the morning?|93|\n",
            "|2|How many loaves of bread did the bakery sell in the afternoon?|39|\n",
            "|3|How many loaves of bread did the bakery have left after the morning and afternoon sales?|200 - 93 - 39 = 68|\n",
            "|4|How many loaves of bread did the grocery store return?|6|\n",
            "|5|How many loaves of bread did the bakery have left after the grocery store returned the unsold loaves?|68 - 6 = 62|\n",
            "|6|How many loaves of bread did the bakery have left after the morning and afternoon sales and the grocery store returned the unsold loaves?|62|\n",
            "Therefore, the answer is the bakery had 62 loaves of bread left after the morning and afternoon sales and the grocery store returned the unsold loaves. \n",
            "Therefore, the answer is\"\n",
            "\n",
            "Example 1: Jackson is planting tulips. He can fit 6 red tulips in a row and 8 blue tulips in a row. If Jackson buys 36 red tulips and 24 blue tulips, how many rows of flowers will he plant? Format the response as a completion of this table.\n",
            "|step|subquestion|procedure|result|\n",
            "|:---|:----------|:--------|:-----:|\n",
            "|1|How many rows of red tulips will Jackson plant?|Divide the total number of red tulips (36) by the number of red tulips per row (6).|36 / 6 = 6 rows|\n",
            "|2|How many rows of blue tulips will Jackson plant?|Divide the total number of blue tulips (24) by the number of blue tulips per row (8).|24 / 8 = 3 rows|\n",
            "|3|How many total rows of flowers will Jackson plant?|Add the number of rows of red tulips (6) to the number of rows of blue tulips (3).|6 + 3 = 9 rows|. \n",
            "Therefore, the answer is Jackson will plant 9 total rows of flowers. Example 2:  The bakers at the Beverly Hills Bakery baked 200 loaves of bread on Monday morning. They sold 93 loaves in the morning and 39 loaves in the afternoon. A grocery store returned 6 unsold loaves. How many loaves of bread did they have left?\n",
            "|step|subquestion|procedure|result|\n",
            "|:---|:----------|:--------|:-----:| \n",
            "|1|How many loaves of bread did the bakery sell in the morning?|93|\n",
            "|2|How many loaves of bread did the bakery sell in the afternoon?|39|\n",
            "|3|How many loaves of bread did the bakery have left after the morning and afternoon sales?|200 - 93 - 39 = 68|\n",
            "|4|How many loaves of bread did the grocery store return?|6|\n",
            "|5|How many loaves of bread did the bakery have left after the grocery store returned the unsold loaves?|68 - 6 = 62|\n",
            "|6|How many loaves of bread did the bakery have left after the morning and afternoon sales and the grocery store returned the unsold loaves?|62|\n",
            "Therefore, the answer is the bakery had 62 loaves of bread left after the morning and afternoon sales and the grocery store returned the unsold loaves. \n",
            "Therefore, the answer is the bakery had 62 loaves of bread left after the morning and afternoon sales and the grocery store returned the unsold loaves.<|endoftext|>\n",
            "--- 25.352652311325073 seconds ---\n",
            "\n",
            "\n",
            "Text generation: \"the bakery had 62 loaves of bread left after the morning and afternoon sales and the grocery store returned the unsold loaves.\"\n",
            "\n"
          ]
        }
      ],
      "source": [
        "# run tab-cot questions\n",
        "\n",
        "for itr, prompts in enumerate(pop_quiz[\"prompts\"][\"tab_cot\"]):\n",
        "    print(f\"Question 4.{itr+1}\")\n",
        "    # Start with sub question #1\n",
        "    sub_question_1 = prompts[0]\n",
        "    print(f'Prompt: \"{sub_question_1}\"\\n')\n",
        "\n",
        "    start_time = time.time()\n",
        "    res_1 = model.run(\n",
        "        prompt=sub_question_1,\n",
        "        eos_token_ids=model.tokenizer.eos_token_id,\n",
        "        max_new_tokens=256,\n",
        "        temperature=0.01,\n",
        "        do_sample=True,\n",
        "        top_p=0.92,\n",
        "        top_k=50,\n",
        "        num_return_sequences=1,\n",
        "    )\n",
        "    print(\"--- %s seconds ---\" % (time.time() - start_time))\n",
        "    print(\"\\n\")\n",
        "    print(f'Text generation: \"{res_1}\"\\n')\n",
        "\n",
        "    # Now do sub question #2 by appending answer to sub question #1\n",
        "    sub_question_2 = f\"{sub_question_1} {res_1} {prompts[1]}\"\n",
        "    print(f'Prompt: \"{sub_question_2}\"\\n')\n",
        "\n",
        "    start_time = time.time()\n",
        "    res_2 = model.run(\n",
        "        prompt=sub_question_2,\n",
        "        eos_token_ids=model.tokenizer.eos_token_id,\n",
        "        max_new_tokens=256,\n",
        "        temperature=0.01,\n",
        "        do_sample=True,\n",
        "        top_p=0.92,\n",
        "        top_k=50,\n",
        "        num_return_sequences=1,\n",
        "    )\n",
        "    print(\"--- %s seconds ---\" % (time.time() - start_time))\n",
        "    print(\"\\n\")\n",
        "    print(f'Text generation: \"{res_2}\"\\n')"
      ]
    },
    {
      "cell_type": "code",
      "source": [],
      "metadata": {
        "id": "VBzJ4-tm8sTD"
      },
      "execution_count": null,
      "outputs": []
    }
  ],
  "metadata": {
    "accelerator": "GPU",
    "application/vnd.databricks.v1+notebook": {
      "dashboards": [],
      "language": "python",
      "notebookMetadata": {
        "pythonIndentUnit": 4
      },
      "notebookName": "hf_LLM_load_and_run_example_dolly7b",
      "widgets": {}
    },
    "colab": {
      "gpuType": "A100",
      "machine_shape": "hm",
      "provenance": []
    },
    "kernelspec": {
      "display_name": "Python 3",
      "name": "python3"
    },
    "language_info": {
      "codemirror_mode": {
        "name": "ipython",
        "version": 3
      },
      "file_extension": ".py",
      "mimetype": "text/x-python",
      "name": "python",
      "nbconvert_exporter": "python",
      "pygments_lexer": "ipython3",
      "version": "3.8.8"
    },
    "widgets": {
      "application/vnd.jupyter.widget-state+json": {
        "69a44a31fccd48d5bd0c5ad89b998e99": {
          "model_module": "@jupyter-widgets/controls",
          "model_name": "HBoxModel",
          "model_module_version": "1.5.0",
          "state": {
            "_dom_classes": [],
            "_model_module": "@jupyter-widgets/controls",
            "_model_module_version": "1.5.0",
            "_model_name": "HBoxModel",
            "_view_count": null,
            "_view_module": "@jupyter-widgets/controls",
            "_view_module_version": "1.5.0",
            "_view_name": "HBoxView",
            "box_style": "",
            "children": [
              "IPY_MODEL_649718a8727b4645a8b1808418f77fb2",
              "IPY_MODEL_e2a0ccb75d954365b8d211a3dcca1f05",
              "IPY_MODEL_011397a38c13494cb2bcfa9f90dacc06"
            ],
            "layout": "IPY_MODEL_bc28c2bf69b546f7a3712204dc760847"
          }
        },
        "649718a8727b4645a8b1808418f77fb2": {
          "model_module": "@jupyter-widgets/controls",
          "model_name": "HTMLModel",
          "model_module_version": "1.5.0",
          "state": {
            "_dom_classes": [],
            "_model_module": "@jupyter-widgets/controls",
            "_model_module_version": "1.5.0",
            "_model_name": "HTMLModel",
            "_view_count": null,
            "_view_module": "@jupyter-widgets/controls",
            "_view_module_version": "1.5.0",
            "_view_name": "HTMLView",
            "description": "",
            "description_tooltip": null,
            "layout": "IPY_MODEL_c8f70375dfa249088071cde4911761f9",
            "placeholder": "​",
            "style": "IPY_MODEL_e581a5de60854676ad899fc2ed5b84d7",
            "value": "Loading checkpoint shards: 100%"
          }
        },
        "e2a0ccb75d954365b8d211a3dcca1f05": {
          "model_module": "@jupyter-widgets/controls",
          "model_name": "FloatProgressModel",
          "model_module_version": "1.5.0",
          "state": {
            "_dom_classes": [],
            "_model_module": "@jupyter-widgets/controls",
            "_model_module_version": "1.5.0",
            "_model_name": "FloatProgressModel",
            "_view_count": null,
            "_view_module": "@jupyter-widgets/controls",
            "_view_module_version": "1.5.0",
            "_view_name": "ProgressView",
            "bar_style": "success",
            "description": "",
            "description_tooltip": null,
            "layout": "IPY_MODEL_80790b7a2c5b4396b7d68a3766ec4070",
            "max": 9,
            "min": 0,
            "orientation": "horizontal",
            "style": "IPY_MODEL_9a46089696194afeb176c5f4fa0044ff",
            "value": 9
          }
        },
        "011397a38c13494cb2bcfa9f90dacc06": {
          "model_module": "@jupyter-widgets/controls",
          "model_name": "HTMLModel",
          "model_module_version": "1.5.0",
          "state": {
            "_dom_classes": [],
            "_model_module": "@jupyter-widgets/controls",
            "_model_module_version": "1.5.0",
            "_model_name": "HTMLModel",
            "_view_count": null,
            "_view_module": "@jupyter-widgets/controls",
            "_view_module_version": "1.5.0",
            "_view_name": "HTMLView",
            "description": "",
            "description_tooltip": null,
            "layout": "IPY_MODEL_f756440cbe7a4f40b4885073f797ea3b",
            "placeholder": "​",
            "style": "IPY_MODEL_b8eb8252a0984939b7dfb5d17a138357",
            "value": " 9/9 [05:42&lt;00:00, 35.40s/it]"
          }
        },
        "bc28c2bf69b546f7a3712204dc760847": {
          "model_module": "@jupyter-widgets/base",
          "model_name": "LayoutModel",
          "model_module_version": "1.2.0",
          "state": {
            "_model_module": "@jupyter-widgets/base",
            "_model_module_version": "1.2.0",
            "_model_name": "LayoutModel",
            "_view_count": null,
            "_view_module": "@jupyter-widgets/base",
            "_view_module_version": "1.2.0",
            "_view_name": "LayoutView",
            "align_content": null,
            "align_items": null,
            "align_self": null,
            "border": null,
            "bottom": null,
            "display": null,
            "flex": null,
            "flex_flow": null,
            "grid_area": null,
            "grid_auto_columns": null,
            "grid_auto_flow": null,
            "grid_auto_rows": null,
            "grid_column": null,
            "grid_gap": null,
            "grid_row": null,
            "grid_template_areas": null,
            "grid_template_columns": null,
            "grid_template_rows": null,
            "height": null,
            "justify_content": null,
            "justify_items": null,
            "left": null,
            "margin": null,
            "max_height": null,
            "max_width": null,
            "min_height": null,
            "min_width": null,
            "object_fit": null,
            "object_position": null,
            "order": null,
            "overflow": null,
            "overflow_x": null,
            "overflow_y": null,
            "padding": null,
            "right": null,
            "top": null,
            "visibility": null,
            "width": null
          }
        },
        "c8f70375dfa249088071cde4911761f9": {
          "model_module": "@jupyter-widgets/base",
          "model_name": "LayoutModel",
          "model_module_version": "1.2.0",
          "state": {
            "_model_module": "@jupyter-widgets/base",
            "_model_module_version": "1.2.0",
            "_model_name": "LayoutModel",
            "_view_count": null,
            "_view_module": "@jupyter-widgets/base",
            "_view_module_version": "1.2.0",
            "_view_name": "LayoutView",
            "align_content": null,
            "align_items": null,
            "align_self": null,
            "border": null,
            "bottom": null,
            "display": null,
            "flex": null,
            "flex_flow": null,
            "grid_area": null,
            "grid_auto_columns": null,
            "grid_auto_flow": null,
            "grid_auto_rows": null,
            "grid_column": null,
            "grid_gap": null,
            "grid_row": null,
            "grid_template_areas": null,
            "grid_template_columns": null,
            "grid_template_rows": null,
            "height": null,
            "justify_content": null,
            "justify_items": null,
            "left": null,
            "margin": null,
            "max_height": null,
            "max_width": null,
            "min_height": null,
            "min_width": null,
            "object_fit": null,
            "object_position": null,
            "order": null,
            "overflow": null,
            "overflow_x": null,
            "overflow_y": null,
            "padding": null,
            "right": null,
            "top": null,
            "visibility": null,
            "width": null
          }
        },
        "e581a5de60854676ad899fc2ed5b84d7": {
          "model_module": "@jupyter-widgets/controls",
          "model_name": "DescriptionStyleModel",
          "model_module_version": "1.5.0",
          "state": {
            "_model_module": "@jupyter-widgets/controls",
            "_model_module_version": "1.5.0",
            "_model_name": "DescriptionStyleModel",
            "_view_count": null,
            "_view_module": "@jupyter-widgets/base",
            "_view_module_version": "1.2.0",
            "_view_name": "StyleView",
            "description_width": ""
          }
        },
        "80790b7a2c5b4396b7d68a3766ec4070": {
          "model_module": "@jupyter-widgets/base",
          "model_name": "LayoutModel",
          "model_module_version": "1.2.0",
          "state": {
            "_model_module": "@jupyter-widgets/base",
            "_model_module_version": "1.2.0",
            "_model_name": "LayoutModel",
            "_view_count": null,
            "_view_module": "@jupyter-widgets/base",
            "_view_module_version": "1.2.0",
            "_view_name": "LayoutView",
            "align_content": null,
            "align_items": null,
            "align_self": null,
            "border": null,
            "bottom": null,
            "display": null,
            "flex": null,
            "flex_flow": null,
            "grid_area": null,
            "grid_auto_columns": null,
            "grid_auto_flow": null,
            "grid_auto_rows": null,
            "grid_column": null,
            "grid_gap": null,
            "grid_row": null,
            "grid_template_areas": null,
            "grid_template_columns": null,
            "grid_template_rows": null,
            "height": null,
            "justify_content": null,
            "justify_items": null,
            "left": null,
            "margin": null,
            "max_height": null,
            "max_width": null,
            "min_height": null,
            "min_width": null,
            "object_fit": null,
            "object_position": null,
            "order": null,
            "overflow": null,
            "overflow_x": null,
            "overflow_y": null,
            "padding": null,
            "right": null,
            "top": null,
            "visibility": null,
            "width": null
          }
        },
        "9a46089696194afeb176c5f4fa0044ff": {
          "model_module": "@jupyter-widgets/controls",
          "model_name": "ProgressStyleModel",
          "model_module_version": "1.5.0",
          "state": {
            "_model_module": "@jupyter-widgets/controls",
            "_model_module_version": "1.5.0",
            "_model_name": "ProgressStyleModel",
            "_view_count": null,
            "_view_module": "@jupyter-widgets/base",
            "_view_module_version": "1.2.0",
            "_view_name": "StyleView",
            "bar_color": null,
            "description_width": ""
          }
        },
        "f756440cbe7a4f40b4885073f797ea3b": {
          "model_module": "@jupyter-widgets/base",
          "model_name": "LayoutModel",
          "model_module_version": "1.2.0",
          "state": {
            "_model_module": "@jupyter-widgets/base",
            "_model_module_version": "1.2.0",
            "_model_name": "LayoutModel",
            "_view_count": null,
            "_view_module": "@jupyter-widgets/base",
            "_view_module_version": "1.2.0",
            "_view_name": "LayoutView",
            "align_content": null,
            "align_items": null,
            "align_self": null,
            "border": null,
            "bottom": null,
            "display": null,
            "flex": null,
            "flex_flow": null,
            "grid_area": null,
            "grid_auto_columns": null,
            "grid_auto_flow": null,
            "grid_auto_rows": null,
            "grid_column": null,
            "grid_gap": null,
            "grid_row": null,
            "grid_template_areas": null,
            "grid_template_columns": null,
            "grid_template_rows": null,
            "height": null,
            "justify_content": null,
            "justify_items": null,
            "left": null,
            "margin": null,
            "max_height": null,
            "max_width": null,
            "min_height": null,
            "min_width": null,
            "object_fit": null,
            "object_position": null,
            "order": null,
            "overflow": null,
            "overflow_x": null,
            "overflow_y": null,
            "padding": null,
            "right": null,
            "top": null,
            "visibility": null,
            "width": null
          }
        },
        "b8eb8252a0984939b7dfb5d17a138357": {
          "model_module": "@jupyter-widgets/controls",
          "model_name": "DescriptionStyleModel",
          "model_module_version": "1.5.0",
          "state": {
            "_model_module": "@jupyter-widgets/controls",
            "_model_module_version": "1.5.0",
            "_model_name": "DescriptionStyleModel",
            "_view_count": null,
            "_view_module": "@jupyter-widgets/base",
            "_view_module_version": "1.2.0",
            "_view_name": "StyleView",
            "description_width": ""
          }
        }
      }
    }
  },
  "nbformat": 4,
  "nbformat_minor": 0
}